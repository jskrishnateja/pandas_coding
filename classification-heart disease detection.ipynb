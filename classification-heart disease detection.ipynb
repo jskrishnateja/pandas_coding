{
 "cells": [
  {
   "cell_type": "markdown",
   "id": "4be46a8b",
   "metadata": {},
   "source": [
    "Binary Classification problem to detect the severity of getting heart disease  \n",
    "\n",
    "Features: 13  \n",
    "age [num]: age in years   \n",
    "sex [cat]: sex (1 = male; 0 = female)  \n",
    "cp [ord]: chest pain type  \n",
    "    -- Value 1: typical angina  \n",
    "    -- Value 2: atypical angina  \n",
    "    -- Value 3: non-anginal pain  \n",
    "    -- Value 4: asymptomatic  \n",
    "trestbps [num]: resting blood pressure (in mm Hg on admission to the hospital)  \n",
    "chol [num]: serum cholestoral in mg/dl  \n",
    "fbs [cat]: (fasting blood sugar > 120 mg/dl)  (1 = true; 0 = false)   \n",
    "restecg [ord]: resting electrocardiographic results  \n",
    "           -- Value 0: normal  \n",
    "           -- Value 1: having ST-T wave abnormality (T wave inversions and/or ST   \n",
    "                       elevation or depression of > 0.05 mV)  \n",
    "           -- Value 2: showing probable or definite left ventricular hypertrophy  \n",
    "                       by Estes' criteria   \n",
    "thalach [num]: maximum heart rate achieved   \n",
    "exang [cat]: exercise induced angina (1 = yes; 0 = no)   \n",
    "oldpeak [num]: ST depression induced by exercise relative to rest  \n",
    "slope [ord]: the slope of the peak exercise ST segment  \n",
    "         -- Value 1: upsloping  \n",
    "         -- Value 2: flat  \n",
    "         -- Value 3: downsloping  \n",
    "ca [ord]: number of major vessels (0-3) colored by flourosopy  \n",
    "thal [cat]: 3 = normal; 6 = fixed defect; 7 = reversable defect  \n",
    "    \n",
    "Target:   \n",
    "sever : heart disease severity (1 = sever, 0: not sever)  "
   ]
  },
  {
   "cell_type": "code",
   "execution_count": null,
   "id": "dfccdccc",
   "metadata": {},
   "outputs": [],
   "source": [
    "import pandas as pd"
   ]
  },
  {
   "cell_type": "code",
   "execution_count": null,
   "id": "b31961ca",
   "metadata": {},
   "outputs": [],
   "source": [
    "# Reading the data\n",
    "h = ['age', 'sex', 'cp', 'trestbps', 'chol', 'fbs', 'restecg', 'thalach', 'exang', 'oldpeak', 'slope', 'ca', 'thal', 'sever']\n",
    "df = pd.read_csv('heart_disease_classification.data', encoding_errors='ignore', names=h)\n",
    "df.loc[df[\"sever\"]>0, \"sever\"]=1"
   ]
  },
  {
   "cell_type": "code",
   "execution_count": null,
   "id": "fde49238",
   "metadata": {},
   "outputs": [],
   "source": [
    "df.head()"
   ]
  },
  {
   "cell_type": "code",
   "execution_count": null,
   "id": "b851a862",
   "metadata": {},
   "outputs": [],
   "source": []
  },
  {
   "cell_type": "code",
   "execution_count": null,
   "id": "c17b2523",
   "metadata": {},
   "outputs": [],
   "source": []
  }
 ],
 "metadata": {
  "kernelspec": {
   "display_name": "nn_io",
   "language": "python",
   "name": "nn_io"
  },
  "language_info": {
   "codemirror_mode": {
    "name": "ipython",
    "version": 3
   },
   "file_extension": ".py",
   "mimetype": "text/x-python",
   "name": "python",
   "nbconvert_exporter": "python",
   "pygments_lexer": "ipython3",
   "version": "3.9.9"
  }
 },
 "nbformat": 4,
 "nbformat_minor": 5
}
